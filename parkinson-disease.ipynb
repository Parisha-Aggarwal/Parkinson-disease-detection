{
 "cells": [
  {
   "cell_type": "code",
   "execution_count": 22,
   "id": "098ba065",
   "metadata": {},
   "outputs": [
    {
     "name": "stdout",
     "output_type": "stream",
     "text": [
      "0.8846153846153846\n",
      "0.8717948717948718\n",
      "[1]\n",
      "Person is not safe\n"
     ]
    },
    {
     "name": "stderr",
     "output_type": "stream",
     "text": [
      "C:\\Users\\HP\\anaconda3\\Lib\\site-packages\\sklearn\\base.py:464: UserWarning: X does not have valid feature names, but StandardScaler was fitted with feature names\n",
      "  warnings.warn(\n"
     ]
    }
   ],
   "source": [
    "import numpy as np\n",
    "import pandas as pd\n",
    "from sklearn.model_selection import train_test_split\n",
    "from sklearn.preprocessing import StandardScaler\n",
    "from sklearn import svm\n",
    "from sklearn.metrics import accuracy_score\n",
    "parkinson = pd.read_csv('parkinsons.csv')\n",
    "parkinson['status'].value_counts()\n",
    "# parkinson.groupby('status').mean()\n",
    "X = parkinson.drop(columns=['name','status'],axis=1)\n",
    "Y= parkinson['status']\n",
    "X_train,X_test,Y_train,Y_test = train_test_split(X,Y,test_size=0.2,random_state=2)\n",
    "scaler = StandardScaler()\n",
    "scaler.fit(X_train)\n",
    "X_train = scaler.transform(X_train)\n",
    "X_test = scaler.transform(X_test)\n",
    "# print(X_train)\n",
    "model=svm.SVC(kernel='linear')\n",
    "model.fit(X_train,Y_train)\n",
    "X_train_prediction = model.predict(X_train)\n",
    "training_data_accuracy = accuracy_score(Y_train,X_train_prediction)\n",
    "print(training_data_accuracy)\n",
    "X_test_prediction = model.predict(X_test)\n",
    "testing_data_accuracy = accuracy_score(Y_test,X_test_prediction)\n",
    "print(testing_data_accuracy)\n",
    "\n",
    "input_data=(156.40500,189.39800,142.82200,0.00768,0.00005,0.00372,0.00399,0.01116,0.03995,0.34800,0.01721,0.02374,0.04310,0.05164,0.03365,17.15300,0.649554,0.686080,-4.554466,0.340176,2.856676,0.322111)\n",
    "input_data_as_array= np.asarray(input_data)\n",
    "input_data_reshape=input_data_as_array.reshape(1,-1)\n",
    "std_data=scaler.transform(input_data_reshape)\n",
    "prediction = model.predict(std_data)\n",
    "print(prediction)\n",
    "if(prediction[0]==0):\n",
    "    print(\"Person is safe\")\n",
    "else:\n",
    "    print(\"Person is not safe\")"
   ]
  },
  {
   "cell_type": "code",
   "execution_count": null,
   "id": "77fffbe4",
   "metadata": {},
   "outputs": [],
   "source": []
  }
 ],
 "metadata": {
  "kernelspec": {
   "display_name": "Python 3 (ipykernel)",
   "language": "python",
   "name": "python3"
  },
  "language_info": {
   "codemirror_mode": {
    "name": "ipython",
    "version": 3
   },
   "file_extension": ".py",
   "mimetype": "text/x-python",
   "name": "python",
   "nbconvert_exporter": "python",
   "pygments_lexer": "ipython3",
   "version": "3.11.5"
  }
 },
 "nbformat": 4,
 "nbformat_minor": 5
}
